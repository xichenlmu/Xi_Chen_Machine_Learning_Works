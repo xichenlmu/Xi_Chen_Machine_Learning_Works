{
  "nbformat": 4,
  "nbformat_minor": 0,
  "metadata": {
    "colab": {
      "provenance": []
    },
    "kernelspec": {
      "name": "python3",
      "display_name": "Python 3"
    },
    "language_info": {
      "name": "python"
    }
  },
  "cells": [
    {
      "cell_type": "markdown",
      "source": [
        "# **1. Data Source and Contents**"
      ],
      "metadata": {
        "id": "YbQ0dZEBFk0c"
      }
    },
    {
      "cell_type": "markdown",
      "source": [
        "import libraries"
      ],
      "metadata": {
        "id": "lEVTT432aePd"
      }
    },
    {
      "cell_type": "code",
      "execution_count": 1,
      "metadata": {
        "colab": {
          "base_uri": "https://localhost:8080/"
        },
        "id": "fP813D9sFVQ-",
        "outputId": "40b71fd6-3369-4b08-bc18-34e24561421c"
      },
      "outputs": [
        {
          "output_type": "stream",
          "name": "stdout",
          "text": [
            "Looking in indexes: https://pypi.org/simple, https://us-python.pkg.dev/colab-wheels/public/simple/\n",
            "Requirement already satisfied: graphviz in /usr/local/lib/python3.8/dist-packages (0.10.1)\n"
          ]
        }
      ],
      "source": [
        "import numpy as np\n",
        "import pandas as pd\n",
        "import matplotlib as mpl\n",
        "import matplotlib.pyplot as plt\n",
        "!pip install graphviz"
      ]
    },
    {
      "cell_type": "markdown",
      "source": [
        "import and read the dataset"
      ],
      "metadata": {
        "id": "-Ce4H4QKajDa"
      }
    },
    {
      "cell_type": "code",
      "source": [
        "df = pd.read_csv('https://github.com/ArinB/MSBA-CA-03-Decision-Trees/blob/master/census_data.csv?raw=true')\n",
        "df"
      ],
      "metadata": {
        "colab": {
          "base_uri": "https://localhost:8080/",
          "height": 626
        },
        "id": "fJmFGpu-GhvV",
        "outputId": "5f42ea48-e054-4559-c275-b484847a786e"
      },
      "execution_count": 2,
      "outputs": [
        {
          "output_type": "execute_result",
          "data": {
            "text/plain": [
              "      hours_per_week_bin occupation_bin  msr_bin capital_gl_bin race_sex_bin  \\\n",
              "0               b. 31-40   b. Mid - Low   b. Mid         c. > 0      c. High   \n",
              "1                a. 0-30        e. High  c. High         a. = 0      c. High   \n",
              "2               b. 31-40         a. Low   b. Mid         a. = 0      c. High   \n",
              "3               b. 31-40         a. Low  c. High         a. = 0       b. Mid   \n",
              "4               b. 31-40        e. High  c. High         a. = 0       a. Low   \n",
              "...                  ...            ...      ...            ...          ...   \n",
              "48837           b. 31-40        e. High   b. Mid         a. = 0       b. Mid   \n",
              "48838           b. 31-40   b. Mid - Low   a. Low         a. = 0       b. Mid   \n",
              "48839   d. 41-50 & 61-70        e. High  c. High         a. = 0      c. High   \n",
              "48840           b. 31-40   b. Mid - Low   a. Low         c. > 0      c. High   \n",
              "48841           e. 51-60        e. High  c. High         a. = 0      c. High   \n",
              "\n",
              "      education_num_bin education_bin workclass_bin            age_bin   flag  \\\n",
              "0                 c. 13  c. Bachelors     b. income   d. 36-40 & 56-60  train   \n",
              "1                 c. 13  c. Bachelors     b. income           e. 40-55  train   \n",
              "2               b. 9-12        b. Mid     b. income   d. 36-40 & 56-60  train   \n",
              "3                a. 0-8        a. Low     b. income           e. 40-55  train   \n",
              "4                 c. 13  c. Bachelors     b. income  b. 26-30 & 71-100  train   \n",
              "...                 ...           ...           ...                ...    ...   \n",
              "48837             c. 13  c. Bachelors     b. income   d. 36-40 & 56-60   test   \n",
              "48838           b. 9-12        b. Mid  a. no income   c. 31-35 & 61-70   test   \n",
              "48839             c. 13  c. Bachelors     b. income   d. 36-40 & 56-60   test   \n",
              "48840             c. 13  c. Bachelors     b. income           e. 40-55   test   \n",
              "48841             c. 13  c. Bachelors     b. income   c. 31-35 & 61-70   test   \n",
              "\n",
              "       y  \n",
              "0      0  \n",
              "1      0  \n",
              "2      0  \n",
              "3      0  \n",
              "4      0  \n",
              "...   ..  \n",
              "48837  0  \n",
              "48838  0  \n",
              "48839  0  \n",
              "48840  0  \n",
              "48841  1  \n",
              "\n",
              "[48842 rows x 11 columns]"
            ],
            "text/html": [
              "\n",
              "  <div id=\"df-b279505f-5f0f-4f00-8ec1-c9657e83a8c5\">\n",
              "    <div class=\"colab-df-container\">\n",
              "      <div>\n",
              "<style scoped>\n",
              "    .dataframe tbody tr th:only-of-type {\n",
              "        vertical-align: middle;\n",
              "    }\n",
              "\n",
              "    .dataframe tbody tr th {\n",
              "        vertical-align: top;\n",
              "    }\n",
              "\n",
              "    .dataframe thead th {\n",
              "        text-align: right;\n",
              "    }\n",
              "</style>\n",
              "<table border=\"1\" class=\"dataframe\">\n",
              "  <thead>\n",
              "    <tr style=\"text-align: right;\">\n",
              "      <th></th>\n",
              "      <th>hours_per_week_bin</th>\n",
              "      <th>occupation_bin</th>\n",
              "      <th>msr_bin</th>\n",
              "      <th>capital_gl_bin</th>\n",
              "      <th>race_sex_bin</th>\n",
              "      <th>education_num_bin</th>\n",
              "      <th>education_bin</th>\n",
              "      <th>workclass_bin</th>\n",
              "      <th>age_bin</th>\n",
              "      <th>flag</th>\n",
              "      <th>y</th>\n",
              "    </tr>\n",
              "  </thead>\n",
              "  <tbody>\n",
              "    <tr>\n",
              "      <th>0</th>\n",
              "      <td>b. 31-40</td>\n",
              "      <td>b. Mid - Low</td>\n",
              "      <td>b. Mid</td>\n",
              "      <td>c. &gt; 0</td>\n",
              "      <td>c. High</td>\n",
              "      <td>c. 13</td>\n",
              "      <td>c. Bachelors</td>\n",
              "      <td>b. income</td>\n",
              "      <td>d. 36-40 &amp; 56-60</td>\n",
              "      <td>train</td>\n",
              "      <td>0</td>\n",
              "    </tr>\n",
              "    <tr>\n",
              "      <th>1</th>\n",
              "      <td>a. 0-30</td>\n",
              "      <td>e. High</td>\n",
              "      <td>c. High</td>\n",
              "      <td>a. = 0</td>\n",
              "      <td>c. High</td>\n",
              "      <td>c. 13</td>\n",
              "      <td>c. Bachelors</td>\n",
              "      <td>b. income</td>\n",
              "      <td>e. 40-55</td>\n",
              "      <td>train</td>\n",
              "      <td>0</td>\n",
              "    </tr>\n",
              "    <tr>\n",
              "      <th>2</th>\n",
              "      <td>b. 31-40</td>\n",
              "      <td>a. Low</td>\n",
              "      <td>b. Mid</td>\n",
              "      <td>a. = 0</td>\n",
              "      <td>c. High</td>\n",
              "      <td>b. 9-12</td>\n",
              "      <td>b. Mid</td>\n",
              "      <td>b. income</td>\n",
              "      <td>d. 36-40 &amp; 56-60</td>\n",
              "      <td>train</td>\n",
              "      <td>0</td>\n",
              "    </tr>\n",
              "    <tr>\n",
              "      <th>3</th>\n",
              "      <td>b. 31-40</td>\n",
              "      <td>a. Low</td>\n",
              "      <td>c. High</td>\n",
              "      <td>a. = 0</td>\n",
              "      <td>b. Mid</td>\n",
              "      <td>a. 0-8</td>\n",
              "      <td>a. Low</td>\n",
              "      <td>b. income</td>\n",
              "      <td>e. 40-55</td>\n",
              "      <td>train</td>\n",
              "      <td>0</td>\n",
              "    </tr>\n",
              "    <tr>\n",
              "      <th>4</th>\n",
              "      <td>b. 31-40</td>\n",
              "      <td>e. High</td>\n",
              "      <td>c. High</td>\n",
              "      <td>a. = 0</td>\n",
              "      <td>a. Low</td>\n",
              "      <td>c. 13</td>\n",
              "      <td>c. Bachelors</td>\n",
              "      <td>b. income</td>\n",
              "      <td>b. 26-30 &amp; 71-100</td>\n",
              "      <td>train</td>\n",
              "      <td>0</td>\n",
              "    </tr>\n",
              "    <tr>\n",
              "      <th>...</th>\n",
              "      <td>...</td>\n",
              "      <td>...</td>\n",
              "      <td>...</td>\n",
              "      <td>...</td>\n",
              "      <td>...</td>\n",
              "      <td>...</td>\n",
              "      <td>...</td>\n",
              "      <td>...</td>\n",
              "      <td>...</td>\n",
              "      <td>...</td>\n",
              "      <td>...</td>\n",
              "    </tr>\n",
              "    <tr>\n",
              "      <th>48837</th>\n",
              "      <td>b. 31-40</td>\n",
              "      <td>e. High</td>\n",
              "      <td>b. Mid</td>\n",
              "      <td>a. = 0</td>\n",
              "      <td>b. Mid</td>\n",
              "      <td>c. 13</td>\n",
              "      <td>c. Bachelors</td>\n",
              "      <td>b. income</td>\n",
              "      <td>d. 36-40 &amp; 56-60</td>\n",
              "      <td>test</td>\n",
              "      <td>0</td>\n",
              "    </tr>\n",
              "    <tr>\n",
              "      <th>48838</th>\n",
              "      <td>b. 31-40</td>\n",
              "      <td>b. Mid - Low</td>\n",
              "      <td>a. Low</td>\n",
              "      <td>a. = 0</td>\n",
              "      <td>b. Mid</td>\n",
              "      <td>b. 9-12</td>\n",
              "      <td>b. Mid</td>\n",
              "      <td>a. no income</td>\n",
              "      <td>c. 31-35 &amp; 61-70</td>\n",
              "      <td>test</td>\n",
              "      <td>0</td>\n",
              "    </tr>\n",
              "    <tr>\n",
              "      <th>48839</th>\n",
              "      <td>d. 41-50 &amp; 61-70</td>\n",
              "      <td>e. High</td>\n",
              "      <td>c. High</td>\n",
              "      <td>a. = 0</td>\n",
              "      <td>c. High</td>\n",
              "      <td>c. 13</td>\n",
              "      <td>c. Bachelors</td>\n",
              "      <td>b. income</td>\n",
              "      <td>d. 36-40 &amp; 56-60</td>\n",
              "      <td>test</td>\n",
              "      <td>0</td>\n",
              "    </tr>\n",
              "    <tr>\n",
              "      <th>48840</th>\n",
              "      <td>b. 31-40</td>\n",
              "      <td>b. Mid - Low</td>\n",
              "      <td>a. Low</td>\n",
              "      <td>c. &gt; 0</td>\n",
              "      <td>c. High</td>\n",
              "      <td>c. 13</td>\n",
              "      <td>c. Bachelors</td>\n",
              "      <td>b. income</td>\n",
              "      <td>e. 40-55</td>\n",
              "      <td>test</td>\n",
              "      <td>0</td>\n",
              "    </tr>\n",
              "    <tr>\n",
              "      <th>48841</th>\n",
              "      <td>e. 51-60</td>\n",
              "      <td>e. High</td>\n",
              "      <td>c. High</td>\n",
              "      <td>a. = 0</td>\n",
              "      <td>c. High</td>\n",
              "      <td>c. 13</td>\n",
              "      <td>c. Bachelors</td>\n",
              "      <td>b. income</td>\n",
              "      <td>c. 31-35 &amp; 61-70</td>\n",
              "      <td>test</td>\n",
              "      <td>1</td>\n",
              "    </tr>\n",
              "  </tbody>\n",
              "</table>\n",
              "<p>48842 rows × 11 columns</p>\n",
              "</div>\n",
              "      <button class=\"colab-df-convert\" onclick=\"convertToInteractive('df-b279505f-5f0f-4f00-8ec1-c9657e83a8c5')\"\n",
              "              title=\"Convert this dataframe to an interactive table.\"\n",
              "              style=\"display:none;\">\n",
              "        \n",
              "  <svg xmlns=\"http://www.w3.org/2000/svg\" height=\"24px\"viewBox=\"0 0 24 24\"\n",
              "       width=\"24px\">\n",
              "    <path d=\"M0 0h24v24H0V0z\" fill=\"none\"/>\n",
              "    <path d=\"M18.56 5.44l.94 2.06.94-2.06 2.06-.94-2.06-.94-.94-2.06-.94 2.06-2.06.94zm-11 1L8.5 8.5l.94-2.06 2.06-.94-2.06-.94L8.5 2.5l-.94 2.06-2.06.94zm10 10l.94 2.06.94-2.06 2.06-.94-2.06-.94-.94-2.06-.94 2.06-2.06.94z\"/><path d=\"M17.41 7.96l-1.37-1.37c-.4-.4-.92-.59-1.43-.59-.52 0-1.04.2-1.43.59L10.3 9.45l-7.72 7.72c-.78.78-.78 2.05 0 2.83L4 21.41c.39.39.9.59 1.41.59.51 0 1.02-.2 1.41-.59l7.78-7.78 2.81-2.81c.8-.78.8-2.07 0-2.86zM5.41 20L4 18.59l7.72-7.72 1.47 1.35L5.41 20z\"/>\n",
              "  </svg>\n",
              "      </button>\n",
              "      \n",
              "  <style>\n",
              "    .colab-df-container {\n",
              "      display:flex;\n",
              "      flex-wrap:wrap;\n",
              "      gap: 12px;\n",
              "    }\n",
              "\n",
              "    .colab-df-convert {\n",
              "      background-color: #E8F0FE;\n",
              "      border: none;\n",
              "      border-radius: 50%;\n",
              "      cursor: pointer;\n",
              "      display: none;\n",
              "      fill: #1967D2;\n",
              "      height: 32px;\n",
              "      padding: 0 0 0 0;\n",
              "      width: 32px;\n",
              "    }\n",
              "\n",
              "    .colab-df-convert:hover {\n",
              "      background-color: #E2EBFA;\n",
              "      box-shadow: 0px 1px 2px rgba(60, 64, 67, 0.3), 0px 1px 3px 1px rgba(60, 64, 67, 0.15);\n",
              "      fill: #174EA6;\n",
              "    }\n",
              "\n",
              "    [theme=dark] .colab-df-convert {\n",
              "      background-color: #3B4455;\n",
              "      fill: #D2E3FC;\n",
              "    }\n",
              "\n",
              "    [theme=dark] .colab-df-convert:hover {\n",
              "      background-color: #434B5C;\n",
              "      box-shadow: 0px 1px 3px 1px rgba(0, 0, 0, 0.15);\n",
              "      filter: drop-shadow(0px 1px 2px rgba(0, 0, 0, 0.3));\n",
              "      fill: #FFFFFF;\n",
              "    }\n",
              "  </style>\n",
              "\n",
              "      <script>\n",
              "        const buttonEl =\n",
              "          document.querySelector('#df-b279505f-5f0f-4f00-8ec1-c9657e83a8c5 button.colab-df-convert');\n",
              "        buttonEl.style.display =\n",
              "          google.colab.kernel.accessAllowed ? 'block' : 'none';\n",
              "\n",
              "        async function convertToInteractive(key) {\n",
              "          const element = document.querySelector('#df-b279505f-5f0f-4f00-8ec1-c9657e83a8c5');\n",
              "          const dataTable =\n",
              "            await google.colab.kernel.invokeFunction('convertToInteractive',\n",
              "                                                     [key], {});\n",
              "          if (!dataTable) return;\n",
              "\n",
              "          const docLinkHtml = 'Like what you see? Visit the ' +\n",
              "            '<a target=\"_blank\" href=https://colab.research.google.com/notebooks/data_table.ipynb>data table notebook</a>'\n",
              "            + ' to learn more about interactive tables.';\n",
              "          element.innerHTML = '';\n",
              "          dataTable['output_type'] = 'display_data';\n",
              "          await google.colab.output.renderOutput(dataTable, element);\n",
              "          const docLink = document.createElement('div');\n",
              "          docLink.innerHTML = docLinkHtml;\n",
              "          element.appendChild(docLink);\n",
              "        }\n",
              "      </script>\n",
              "    </div>\n",
              "  </div>\n",
              "  "
            ]
          },
          "metadata": {},
          "execution_count": 2
        }
      ]
    },
    {
      "cell_type": "markdown",
      "source": [
        "check for dataset info"
      ],
      "metadata": {
        "id": "nRoOAI46aqvx"
      }
    },
    {
      "cell_type": "code",
      "source": [
        "print(df.info())"
      ],
      "metadata": {
        "colab": {
          "base_uri": "https://localhost:8080/"
        },
        "id": "fB3dcgDgJOen",
        "outputId": "daad0876-0761-402e-b35e-c5159ea4f055"
      },
      "execution_count": 3,
      "outputs": [
        {
          "output_type": "stream",
          "name": "stdout",
          "text": [
            "<class 'pandas.core.frame.DataFrame'>\n",
            "RangeIndex: 48842 entries, 0 to 48841\n",
            "Data columns (total 11 columns):\n",
            " #   Column              Non-Null Count  Dtype \n",
            "---  ------              --------------  ----- \n",
            " 0   hours_per_week_bin  48842 non-null  object\n",
            " 1   occupation_bin      48842 non-null  object\n",
            " 2   msr_bin             48842 non-null  object\n",
            " 3   capital_gl_bin      48842 non-null  object\n",
            " 4   race_sex_bin        48842 non-null  object\n",
            " 5   education_num_bin   48842 non-null  object\n",
            " 6   education_bin       48842 non-null  object\n",
            " 7   workclass_bin       48842 non-null  object\n",
            " 8   age_bin             48842 non-null  object\n",
            " 9   flag                48842 non-null  object\n",
            " 10  y                   48842 non-null  int64 \n",
            "dtypes: int64(1), object(10)\n",
            "memory usage: 4.1+ MB\n",
            "None\n"
          ]
        }
      ]
    },
    {
      "cell_type": "markdown",
      "source": [
        "check for data size"
      ],
      "metadata": {
        "id": "CtDGggslzSLM"
      }
    },
    {
      "cell_type": "code",
      "source": [
        "print(df.shape)"
      ],
      "metadata": {
        "colab": {
          "base_uri": "https://localhost:8080/"
        },
        "id": "bboA_x0BzDWx",
        "outputId": "363a8534-d88d-4bc4-8be2-c8ce116ae08f"
      },
      "execution_count": 4,
      "outputs": [
        {
          "output_type": "stream",
          "name": "stdout",
          "text": [
            "(48842, 11)\n"
          ]
        }
      ]
    },
    {
      "cell_type": "markdown",
      "source": [
        "# **Data cleanning and transformations**"
      ],
      "metadata": {
        "id": "lkup4VlqeSYS"
      }
    },
    {
      "cell_type": "markdown",
      "source": [
        "check for missing values"
      ],
      "metadata": {
        "id": "P03wx3Nm1Ck_"
      }
    },
    {
      "cell_type": "code",
      "source": [
        "print(df.isnull().sum())"
      ],
      "metadata": {
        "colab": {
          "base_uri": "https://localhost:8080/"
        },
        "id": "LZninoM6zrcp",
        "outputId": "c08381e8-4d94-4afd-f4ab-2d174f1086ab"
      },
      "execution_count": 5,
      "outputs": [
        {
          "output_type": "stream",
          "name": "stdout",
          "text": [
            "hours_per_week_bin    0\n",
            "occupation_bin        0\n",
            "msr_bin               0\n",
            "capital_gl_bin        0\n",
            "race_sex_bin          0\n",
            "education_num_bin     0\n",
            "education_bin         0\n",
            "workclass_bin         0\n",
            "age_bin               0\n",
            "flag                  0\n",
            "y                     0\n",
            "dtype: int64\n"
          ]
        }
      ]
    },
    {
      "cell_type": "markdown",
      "source": [
        "check for outliers"
      ],
      "metadata": {
        "id": "ypLxyh6f1B2s"
      }
    },
    {
      "cell_type": "code",
      "source": [
        "print(df.describe())"
      ],
      "metadata": {
        "colab": {
          "base_uri": "https://localhost:8080/"
        },
        "id": "A3um6bJ61Kal",
        "outputId": "7556a1f1-ef26-4cbc-a926-196b578535ee"
      },
      "execution_count": 6,
      "outputs": [
        {
          "output_type": "stream",
          "name": "stdout",
          "text": [
            "                  y\n",
            "count  48842.000000\n",
            "mean       0.239282\n",
            "std        0.426649\n",
            "min        0.000000\n",
            "25%        0.000000\n",
            "50%        0.000000\n",
            "75%        0.000000\n",
            "max        1.000000\n"
          ]
        }
      ]
    },
    {
      "cell_type": "markdown",
      "source": [
        "check for duplicates"
      ],
      "metadata": {
        "id": "Ky7YA6Y01Zor"
      }
    },
    {
      "cell_type": "code",
      "source": [
        "print(df.duplicated().sum())"
      ],
      "metadata": {
        "colab": {
          "base_uri": "https://localhost:8080/"
        },
        "id": "Qn8b92Pn1ZPS",
        "outputId": "8d87f4cd-19ef-4f8e-bb19-c872da20f5a7"
      },
      "execution_count": 7,
      "outputs": [
        {
          "output_type": "stream",
          "name": "stdout",
          "text": [
            "40012\n"
          ]
        }
      ]
    },
    {
      "cell_type": "code",
      "source": [
        "df.columns"
      ],
      "metadata": {
        "colab": {
          "base_uri": "https://localhost:8080/"
        },
        "id": "CafUptUM12nz",
        "outputId": "2cfb8e69-83c0-47ab-89e7-86bc7075fa56"
      },
      "execution_count": 8,
      "outputs": [
        {
          "output_type": "execute_result",
          "data": {
            "text/plain": [
              "Index(['hours_per_week_bin', 'occupation_bin', 'msr_bin', 'capital_gl_bin',\n",
              "       'race_sex_bin', 'education_num_bin', 'education_bin', 'workclass_bin',\n",
              "       'age_bin', 'flag', 'y'],\n",
              "      dtype='object')"
            ]
          },
          "metadata": {},
          "execution_count": 8
        }
      ]
    },
    {
      "cell_type": "markdown",
      "source": [
        "# **2. Finding Optimal Value of a key Ensemble Method Hyper-parameter**"
      ],
      "metadata": {
        "id": "u8VVYCA4KKYQ"
      }
    },
    {
      "cell_type": "markdown",
      "source": [
        "import one hot encoding and classifier libraries"
      ],
      "metadata": {
        "id": "CUhjJS_G8H5o"
      }
    },
    {
      "cell_type": "code",
      "source": [
        "from sklearn.preprocessing import OneHotEncoder\n",
        "from sklearn.tree import DecisionTreeClassifier\n",
        "from sklearn.metrics import confusion_matrix\n",
        "from sklearn.metrics import accuracy_score\n",
        "from sklearn.metrics import precision_score\n",
        "from sklearn.metrics import recall_score\n",
        "from sklearn.metrics import f1_score\n",
        "from sklearn.metrics import classification_report\n",
        "from sklearn.metrics import roc_auc_score\n",
        "df = pd.read_csv('https://github.com/ArinB/MSBA-CA-03-Decision-Trees/blob/master/census_data.csv?raw=true')"
      ],
      "metadata": {
        "id": "z1b0I9w8H7QV"
      },
      "execution_count": 9,
      "outputs": []
    },
    {
      "cell_type": "markdown",
      "source": [
        "provide one hot encoding to transform data, note that the flag can be removed after train and test data formed."
      ],
      "metadata": {
        "id": "Qmw0Qe_1Pngh"
      }
    },
    {
      "cell_type": "code",
      "source": [
        "train_data = df[df.flag == 'train'].drop(['flag', 'education_num_bin'], axis = 1)\n",
        "test_data = df[df.flag == 'test'].drop(['flag', 'education_num_bin'], axis = 1)"
      ],
      "metadata": {
        "id": "fiI_KO0YNVEa"
      },
      "execution_count": 10,
      "outputs": []
    },
    {
      "cell_type": "markdown",
      "source": [
        "setting x and y for both train and test datasets"
      ],
      "metadata": {
        "id": "W0fb-SNrPmPC"
      }
    },
    {
      "cell_type": "code",
      "source": [
        "x_train = train_data.drop('y', axis = 1)        \n",
        "x_test = test_data.drop('y', axis = 1)\n",
        "y_train = train_data.y  \n",
        "y_test = test_data.y"
      ],
      "metadata": {
        "id": "tTSbSgdfNZ-1"
      },
      "execution_count": 11,
      "outputs": []
    },
    {
      "cell_type": "markdown",
      "source": [
        "get dummies for x_train and x_test"
      ],
      "metadata": {
        "id": "RZ403FYCPhEx"
      }
    },
    {
      "cell_type": "code",
      "source": [
        "OHE = OneHotEncoder()\n",
        "x_train = OHE.fit_transform(x_train).toarray()\n",
        "x_test = OHE.fit_transform(x_test).toarray()"
      ],
      "metadata": {
        "id": "PzMmHLgpNbyA"
      },
      "execution_count": 12,
      "outputs": []
    },
    {
      "cell_type": "markdown",
      "source": [
        "build a decision tree model"
      ],
      "metadata": {
        "id": "ZNfKaRB6Pc-N"
      }
    },
    {
      "cell_type": "code",
      "source": [
        "dtree = DecisionTreeClassifier(max_depth = 10, \n",
        "                               random_state = 101,\n",
        "                               max_features = None, \n",
        "                               min_samples_leaf = 15)\n",
        "dtree.fit(x_train, y_train)\n",
        "y_pred = dtree.predict(x_test)"
      ],
      "metadata": {
        "id": "59vp-ucONddj"
      },
      "execution_count": 13,
      "outputs": []
    },
    {
      "cell_type": "markdown",
      "source": [
        "The decsion tree with given parameters can perfectly ran"
      ],
      "metadata": {
        "id": "7ZG3grpMQ6lh"
      }
    },
    {
      "cell_type": "markdown",
      "source": [
        "**“Accuracy” Vs. “Maximum\n",
        "Depth” for DecisionTreeClassifier algorithm**"
      ],
      "metadata": {
        "id": "mkB5LVTOlgLg"
      }
    },
    {
      "cell_type": "code",
      "source": [
        "results = []\n",
        "max_depth_options = [2, 4, 6, 8, 10, 12, 14, 16, 18, 20]\n",
        "for trees in max_depth_options:\n",
        "    model = DecisionTreeClassifier(max_depth = trees, random_state = 101)\n",
        "    model.fit(x_train, y_train)\n",
        "    y_pred = model.predict(x_test)\n",
        "    #Accuracy function  \n",
        "    accuracy = np.mean(y_test == y_pred)\n",
        "    results.append(accuracy)\n",
        "plt.figure(figsize = (8, 4))\n",
        "pd.Series(results, max_depth_options).plot(color = 'darkred', marker = 'o')\n",
        "plt.ylabel('Accuracy score')\n",
        "plt.xlabel('Max depth')"
      ],
      "metadata": {
        "colab": {
          "base_uri": "https://localhost:8080/",
          "height": 296
        },
        "id": "UI_P0xT3foWg",
        "outputId": "95a1ed27-8f20-4003-aeac-83fa814e99fb"
      },
      "execution_count": 14,
      "outputs": [
        {
          "output_type": "execute_result",
          "data": {
            "text/plain": [
              "Text(0.5, 0, 'Max depth')"
            ]
          },
          "metadata": {},
          "execution_count": 14
        },
        {
          "output_type": "display_data",
          "data": {
            "text/plain": [
              "<Figure size 576x288 with 1 Axes>"
            ],
            "image/png": "[encoded data removed]"
          },
          "metadata": {
            "needs_background": "light"
          }
        }
      ]
    },
    {
      "cell_type": "markdown",
      "source": [
        "**“AUC” Vs. “Maximum\n",
        "Depth” for DecisionTreeClassifier algorithm**"
      ],
      "metadata": {
        "id": "XDJbntXyl6it"
      }
    },
    {
      "cell_type": "code",
      "source": [
        "results1 = []\n",
        "max_depth_options = [2, 4, 6, 8, 10, 12, 14, 16, 18, 20]\n",
        "for trees in max_depth_options:\n",
        "    model = DecisionTreeClassifier(max_depth = trees, random_state = 101)\n",
        "    model.fit(x_train, y_train)\n",
        "    y_pred = model.predict(x_test)\n",
        "    #AUC function  \n",
        "    auc = roc_auc_score(y_test, y_pred)\n",
        "    results1.append(auc)\n",
        "plt.figure(figsize = (8, 4))\n",
        "pd.Series(results1, max_depth_options).plot(color = 'darkred', marker = 'o')\n",
        "plt.ylabel('AUC score')\n",
        "plt.xlabel('Max depth')"
      ],
      "metadata": {
        "colab": {
          "base_uri": "https://localhost:8080/",
          "height": 296
        },
        "id": "1csmJ75zl84P",
        "outputId": "f72a8911-8c70-4123-9a84-0faed3e73426"
      },
      "execution_count": 15,
      "outputs": [
        {
          "output_type": "execute_result",
          "data": {
            "text/plain": [
              "Text(0.5, 0, 'Max depth')"
            ]
          },
          "metadata": {},
          "execution_count": 15
        },
        {
          "output_type": "display_data",
          "data": {
            "text/plain": [
              "<Figure size 576x288 with 1 Axes>"
            ],
            "image/png": "[encoded data removed]"
          },
          "metadata": {
            "needs_background": "light"
          }
        }
      ]
    },
    {
      "cell_type": "markdown",
      "source": [
        "# **3. Building a Random Forest Model**"
      ],
      "metadata": {
        "id": "HzQEs8zYP9GS"
      }
    },
    {
      "cell_type": "markdown",
      "source": [
        "importing libraries for Random forest andd accuraacy"
      ],
      "metadata": {
        "id": "SxDEyFqRq7yI"
      }
    },
    {
      "cell_type": "code",
      "source": [
        "from sklearn.ensemble import RandomForestClassifier\n",
        "from sklearn.metrics import accuracy_score"
      ],
      "metadata": {
        "id": "G_pf8ns9rDch"
      },
      "execution_count": 16,
      "outputs": []
    },
    {
      "cell_type": "markdown",
      "source": [
        "Random forest accuraacy model"
      ],
      "metadata": {
        "id": "iTahvocMqYir"
      }
    },
    {
      "cell_type": "code",
      "source": [
        "results_acc1 = []\n",
        "n_estimators = [50, 100, 150, 200, 250, 300, 350, 400, 450, 500]\n",
        "for trees in n_estimators:\n",
        "    model_acc1 = RandomForestClassifier(n_estimators = trees, random_state = 101)\n",
        "    model_acc1.fit(x_train, y_train)\n",
        "    y_pred = model_acc1.predict(x_test)\n",
        "    #Accuracy function  \n",
        "    accuracy1 = np.mean(y_test == y_pred)\n",
        "    results_acc1.append(accuracy1)\n",
        "plt.figure(figsize = (8, 4))\n",
        "pd.Series(results_acc1, n_estimators).plot(color = 'darkred', marker = 'o')\n",
        "plt.ylabel('Accuracy score')\n",
        "plt.xlabel('n_estimators')"
      ],
      "metadata": {
        "colab": {
          "base_uri": "https://localhost:8080/",
          "height": 297
        },
        "id": "jpYwzrKwqXhq",
        "outputId": "de723954-c39e-4902-deef-c551771301b8"
      },
      "execution_count": 37,
      "outputs": [
        {
          "output_type": "execute_result",
          "data": {
            "text/plain": [
              "Text(0.5, 0, 'n_estimators')"
            ]
          },
          "metadata": {},
          "execution_count": 37
        },
        {
          "output_type": "display_data",
          "data": {
            "text/plain": [
              "<Figure size 576x288 with 1 Axes>"
            ],
            "image/png": "[encoded data removed]"
          },
          "metadata": {
            "needs_background": "light"
          }
        }
      ]
    },
    {
      "cell_type": "markdown",
      "source": [
        "Random forest AUC model"
      ],
      "metadata": {
        "id": "iLboUZ9Zqeu4"
      }
    },
    {
      "cell_type": "code",
      "source": [
        "results_auc1 = []\n",
        "n_estimators = [50, 100, 150, 200, 250, 300, 350, 400, 450, 500]\n",
        "for trees in n_estimators:\n",
        "    model_acc2 = RandomForestClassifier(n_estimators = trees, random_state = 101)\n",
        "    model_acc2.fit(x_train, y_train)\n",
        "    y_pred = model_acc2.predict(x_test)\n",
        "    #AUC function  \n",
        "    auc1 = roc_auc_score(y_test, y_pred)\n",
        "    results_auc1.append(auc1)\n",
        "plt.figure(figsize = (8, 4))\n",
        "pd.Series(results_auc1, n_estimators).plot(color = 'darkred', marker = 'o')\n",
        "plt.ylabel('AUC score')\n",
        "plt.xlabel('n_estimators')"
      ],
      "metadata": {
        "colab": {
          "base_uri": "https://localhost:8080/",
          "height": 297
        },
        "id": "Ewc3O2yXvhJ9",
        "outputId": "f5b5acaf-d5ba-4966-e06f-00ca8d6581ab"
      },
      "execution_count": 38,
      "outputs": [
        {
          "output_type": "execute_result",
          "data": {
            "text/plain": [
              "Text(0.5, 0, 'n_estimators')"
            ]
          },
          "metadata": {},
          "execution_count": 38
        },
        {
          "output_type": "display_data",
          "data": {
            "text/plain": [
              "<Figure size 576x288 with 1 Axes>"
            ],
            "image/png": "[encoded data removed]"
          },
          "metadata": {
            "needs_background": "light"
          }
        }
      ]
    },
    {
      "cell_type": "markdown",
      "source": [
        "# **4. Building AdaBoost, Gradient Boost, and XGB.**"
      ],
      "metadata": {
        "id": "n7vXdqSiATBX"
      }
    },
    {
      "cell_type": "markdown",
      "source": [
        "Import libraries for Ada Boost, Gradient Boost, and XGB"
      ],
      "metadata": {
        "id": "Zn6EKvtdAXe-"
      }
    },
    {
      "cell_type": "code",
      "source": [
        "from sklearn.ensemble import AdaBoostClassifier\n",
        "from sklearn.ensemble import GradientBoostingClassifier\n",
        "from xgboost import XGBClassifier"
      ],
      "metadata": {
        "id": "34kQlXG0AWBp"
      },
      "execution_count": 40,
      "outputs": []
    },
    {
      "cell_type": "markdown",
      "source": [
        "Ada Boost accuraacy model"
      ],
      "metadata": {
        "id": "_-YpFdRGAsZf"
      }
    },
    {
      "cell_type": "code",
      "source": [
        "results_acc2 = []\n",
        "n_estimators = [50, 100, 150, 200, 250, 300, 350, 400, 450, 500]\n",
        "for trees in n_estimators:\n",
        "    model_acc3 = AdaBoostClassifier(n_estimators = trees, random_state = 101)\n",
        "    model_acc3.fit(x_train, y_train)\n",
        "    y_pred = model_acc3.predict(x_test)\n",
        "    #Accuracy function  \n",
        "    accuracy2 = np.mean(y_test == y_pred)\n",
        "    results_acc2.append(accuracy2)\n",
        "plt.figure(figsize = (8, 4))\n",
        "pd.Series(results_acc2, n_estimators).plot(color = 'darkred', marker = 'o')\n",
        "plt.ylabel('Accuracy score')\n",
        "plt.xlabel('n_estimators')"
      ],
      "metadata": {
        "colab": {
          "base_uri": "https://localhost:8080/",
          "height": 297
        },
        "id": "gkS3d06UAsJ8",
        "outputId": "48c445fc-4176-46bc-85e5-0114f8befcdd"
      },
      "execution_count": 41,
      "outputs": [
        {
          "output_type": "execute_result",
          "data": {
            "text/plain": [
              "Text(0.5, 0, 'n_estimators')"
            ]
          },
          "metadata": {},
          "execution_count": 41
        },
        {
          "output_type": "display_data",
          "data": {
            "text/plain": [
              "<Figure size 576x288 with 1 Axes>"
            ],
            "image/png": "[encoded data removed]"
          },
          "metadata": {
            "needs_background": "light"
          }
        }
      ]
    },
    {
      "cell_type": "markdown",
      "source": [
        "Ada Boost forest AUC model"
      ],
      "metadata": {
        "id": "DsB_5BbTA1Cg"
      }
    },
    {
      "cell_type": "code",
      "source": [
        "results_auc2 = []\n",
        "n_estimators = [50, 100, 150, 200, 250, 300, 350, 400, 450, 500]\n",
        "for trees in n_estimators:\n",
        "    model_acc4 = AdaBoostClassifier(n_estimators = trees, random_state = 101)\n",
        "    model_acc4.fit(x_train, y_train)\n",
        "    y_pred = model_acc4.predict(x_test)\n",
        "    #AUC function  \n",
        "    auc2 = roc_auc_score(y_test, y_pred)\n",
        "    results_auc2.append(auc2)\n",
        "plt.figure(figsize = (8, 4))\n",
        "pd.Series(results_auc2, n_estimators).plot(color = 'darkred', marker = 'o')\n",
        "plt.ylabel('AUC score')\n",
        "plt.xlabel('n_estimators')"
      ],
      "metadata": {
        "colab": {
          "base_uri": "https://localhost:8080/",
          "height": 299
        },
        "id": "XvuguxCdArsQ",
        "outputId": "c8eb4e63-5ea6-488a-d01c-c90667a30068"
      },
      "execution_count": 42,
      "outputs": [
        {
          "output_type": "execute_result",
          "data": {
            "text/plain": [
              "Text(0.5, 0, 'n_estimators')"
            ]
          },
          "metadata": {},
          "execution_count": 42
        },
        {
          "output_type": "display_data",
          "data": {
            "text/plain": [
              "<Figure size 576x288 with 1 Axes>"
            ],
            "image/png": "[encoded data removed]"
          },
          "metadata": {
            "needs_background": "light"
          }
        }
      ]
    },
    {
      "cell_type": "markdown",
      "source": [
        "Gradient Boost accuraacy model"
      ],
      "metadata": {
        "id": "WEeDdJWsAtBX"
      }
    },
    {
      "cell_type": "code",
      "source": [
        "results_acc3 = []\n",
        "n_estimators = [50, 100, 150, 200, 250, 300, 350, 400, 450, 500]\n",
        "for trees in n_estimators:\n",
        "    model_acc5 = GradientBoostingClassifier(n_estimators = trees, random_state = 101)\n",
        "    model_acc5.fit(x_train, y_train)\n",
        "    y_pred = model_acc5.predict(x_test)\n",
        "    #Accuracy function  \n",
        "    accuracy3 = np.mean(y_test == y_pred)\n",
        "    results_acc3.append(accuracy3)\n",
        "plt.figure(figsize = (8, 4))\n",
        "pd.Series(results_acc3, n_estimators).plot(color = 'darkred', marker = 'o')\n",
        "plt.ylabel('Accuracy score')\n",
        "plt.xlabel('n_estimators')"
      ],
      "metadata": {
        "colab": {
          "base_uri": "https://localhost:8080/",
          "height": 297
        },
        "id": "NbC3j2HLAq1P",
        "outputId": "42ee0fb4-f15b-4be9-c4be-c38ab4b7b9b6"
      },
      "execution_count": 43,
      "outputs": [
        {
          "output_type": "execute_result",
          "data": {
            "text/plain": [
              "Text(0.5, 0, 'n_estimators')"
            ]
          },
          "metadata": {},
          "execution_count": 43
        },
        {
          "output_type": "display_data",
          "data": {
            "text/plain": [
              "<Figure size 576x288 with 1 Axes>"
            ],
            "image/png": "[encoded data removed]"
          },
          "metadata": {
            "needs_background": "light"
          }
        }
      ]
    },
    {
      "cell_type": "markdown",
      "source": [
        "Gradient Boost AUC model"
      ],
      "metadata": {
        "id": "Kfh-Z8o6BB5u"
      }
    },
    {
      "cell_type": "code",
      "source": [
        "results_auc3 = []\n",
        "n_estimators = [50, 100, 150, 200, 250, 300, 350, 400, 450, 500]\n",
        "for trees in n_estimators:\n",
        "    model_acc6 = GradientBoostingClassifier(n_estimators = trees, random_state = 101)\n",
        "    model_acc6.fit(x_train, y_train)\n",
        "    y_pred = model_acc6.predict(x_test)\n",
        "    #AUC function  \n",
        "    auc3 = roc_auc_score(y_test, y_pred)\n",
        "    results_auc3.append(auc3)\n",
        "plt.figure(figsize = (8, 4))\n",
        "pd.Series(results_auc3, n_estimators).plot(color = 'darkred', marker = 'o')\n",
        "plt.ylabel('AUC score')\n",
        "plt.xlabel('n_estimators')"
      ],
      "metadata": {
        "colab": {
          "base_uri": "https://localhost:8080/",
          "height": 297
        },
        "id": "Yo0QLHxQAta2",
        "outputId": "92e1ba9b-042b-44b8-dfa8-d37b33cb4a4b"
      },
      "execution_count": 44,
      "outputs": [
        {
          "output_type": "execute_result",
          "data": {
            "text/plain": [
              "Text(0.5, 0, 'n_estimators')"
            ]
          },
          "metadata": {},
          "execution_count": 44
        },
        {
          "output_type": "display_data",
          "data": {
            "text/plain": [
              "<Figure size 576x288 with 1 Axes>"
            ],
            "image/png": "[encoded data removed]"
          },
          "metadata": {
            "needs_background": "light"
          }
        }
      ]
    },
    {
      "cell_type": "markdown",
      "source": [
        "XGB accuraacy model"
      ],
      "metadata": {
        "id": "Km3HcmNPAt18"
      }
    },
    {
      "cell_type": "code",
      "source": [
        "results_acc4 = []\n",
        "n_estimators = [50, 100, 150, 200, 250, 300, 350, 400, 450, 500]\n",
        "for trees in n_estimators:\n",
        "    model_acc7 = XGBClassifier(n_estimators = trees, random_state = 101)\n",
        "    model_acc7.fit(x_train, y_train)\n",
        "    y_pred = model_acc7.predict(x_test)\n",
        "    #Accuracy function  \n",
        "    accuracy4 = np.mean(y_test == y_pred)\n",
        "    results_acc4.append(accuracy4)\n",
        "plt.figure(figsize = (8, 4))\n",
        "pd.Series(results_acc4, n_estimators).plot(color = 'darkred', marker = 'o')\n",
        "plt.ylabel('Accuracy score')\n",
        "plt.xlabel('n_estimators')"
      ],
      "metadata": {
        "colab": {
          "base_uri": "https://localhost:8080/",
          "height": 297
        },
        "id": "SjA8cIIaAuWu",
        "outputId": "6e8a4b69-2784-4e6e-e300-2fa334c2005d"
      },
      "execution_count": 45,
      "outputs": [
        {
          "output_type": "execute_result",
          "data": {
            "text/plain": [
              "Text(0.5, 0, 'n_estimators')"
            ]
          },
          "metadata": {},
          "execution_count": 45
        },
        {
          "output_type": "display_data",
          "data": {
            "text/plain": [
              "<Figure size 576x288 with 1 Axes>"
            ],
            "image/png": "[encoded data removed]"
          },
          "metadata": {
            "needs_background": "light"
          }
        }
      ]
    },
    {
      "cell_type": "markdown",
      "source": [
        "XGB AUC model"
      ],
      "metadata": {
        "id": "-fcRYBOGBJUq"
      }
    },
    {
      "cell_type": "code",
      "source": [
        "results_auc4 = []\n",
        "n_estimators = [50, 100, 150, 200, 250, 300, 350, 400, 450, 500]\n",
        "for trees in n_estimators:\n",
        "    model_acc8 = XGBClassifier(n_estimators = trees, random_state = 101)\n",
        "    model_acc8.fit(x_train, y_train)\n",
        "    y_pred = model_acc8.predict(x_test)\n",
        "    #AUC function  \n",
        "    auc4 = roc_auc_score(y_test, y_pred)\n",
        "    results_auc4.append(auc4)\n",
        "plt.figure(figsize = (8, 4))\n",
        "pd.Series(results_auc4, n_estimators).plot(color = 'darkred', marker = 'o')\n",
        "plt.ylabel('AUC score')\n",
        "plt.xlabel('n_estimators')"
      ],
      "metadata": {
        "colab": {
          "base_uri": "https://localhost:8080/",
          "height": 297
        },
        "id": "RxFpzck7Aumz",
        "outputId": "00f1b19c-1271-455b-8cfb-64b1337fac98"
      },
      "execution_count": 46,
      "outputs": [
        {
          "output_type": "execute_result",
          "data": {
            "text/plain": [
              "Text(0.5, 0, 'n_estimators')"
            ]
          },
          "metadata": {},
          "execution_count": 46
        },
        {
          "output_type": "display_data",
          "data": {
            "text/plain": [
              "<Figure size 576x288 with 1 Axes>"
            ],
            "image/png": "[encoded data removed]"
          },
          "metadata": {
            "needs_background": "light"
          }
        }
      ]
    },
    {
      "cell_type": "markdown",
      "source": [
        "# **5. Compare Performance**"
      ],
      "metadata": {
        "id": "e8ghzZoavhv8"
      }
    },
    {
      "cell_type": "code",
      "source": [
        "Table = pd.DataFrame({\"Random Forest\": [accuracy1,auc1],\n",
        "                     \"Ada Boost\": [accuracy2,auc2],\n",
        "                     \"Gradient Boost\": [accuracy3,auc3],\n",
        "                     \"XGB\": [accuracy4,auc4]}, \n",
        "                     index = [\"Accuracy\",\"AUC\"])\n",
        "print(Table)"
      ],
      "metadata": {
        "colab": {
          "base_uri": "https://localhost:8080/"
        },
        "id": "mywxjJwLvraA",
        "outputId": "c74f8066-9e32-40b5-cbbd-8ccdfcb6b87a"
      },
      "execution_count": 47,
      "outputs": [
        {
          "output_type": "stream",
          "name": "stdout",
          "text": [
            "          Random Forest  Ada Boost  Gradient Boost       XGB\n",
            "Accuracy       0.839260   0.844788        0.844727  0.845710\n",
            "AUC            0.747417   0.746008        0.757372  0.759092\n"
          ]
        }
      ]
    },
    {
      "cell_type": "markdown",
      "source": [
        "The best values for andom Forest,AdaBoost, Gradient Boost, and XGB are provide in above table."
      ],
      "metadata": {
        "id": "kPaMry3sGgqW"
      }
    },
    {
      "cell_type": "markdown",
      "source": [
        "# **Answer the following questions for Random Forest model and each algorithm in 4:**"
      ],
      "metadata": {
        "id": "EShaBWXMUmez"
      }
    },
    {
      "cell_type": "markdown",
      "source": [
        "**1. Write your observations about the Classifier’s behavior with respect to the number\n",
        "of estimators**"
      ],
      "metadata": {
        "id": "e5ohv3eeG9Bi"
      }
    },
    {
      "cell_type": "markdown",
      "source": [
        "*By using the Random Forest, daBoost, Gradient Boost, and XGB classifiers with a specific given range of n_estimator ranging from 50 to 500, we are able to clearly find the accuracy and AUC scores for comparison. Throughout the 4 models we used for testing, we may graph the change of accuracy scores and AUC scores at each specific n_estimator value. And finally we may find the best accuracy scores and AUC scores through out the graph and record them into the dictionary table we created.*"
      ],
      "metadata": {
        "id": "c6ZF6JmcHet1"
      }
    },
    {
      "cell_type": "markdown",
      "source": [
        "**2. Is there an optimal value of the estimator within the given range?**"
      ],
      "metadata": {
        "id": "LXOnucbXHa2X"
      }
    },
    {
      "cell_type": "markdown",
      "source": [
        "*Within the given range n_estimator from 50 to 500, we succefully found the optimal values based and accuracy scores and AUC scores for XGB models except for the Ada Boost models and part of the Random Forest model and Gradient Boost model. Based on the graph, we can tell the Random Forest model has the highest value at the n_estimator at 50, yes, we found an optimal value, but we cannot predict if there is another climate that can be higher than we we have from the graph out of this range from 50 to 500. Same reason for both the accuracy and AUC graph for Ada Forest models, as well as the accuracy for the Gradient Boost model, we higest point of their graphs are all at 50 n_estimator, we cannot be sure if there is a higher value when n_estimator is less than 50.*"
      ],
      "metadata": {
        "id": "gkpcfgivIxzm"
      }
    }
  ]
}